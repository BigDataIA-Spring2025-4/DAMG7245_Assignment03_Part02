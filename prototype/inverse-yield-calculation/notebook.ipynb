{
 "cells": [
  {
   "cell_type": "code",
   "execution_count": null,
   "metadata": {
    "vscode": {
     "languageId": "plaintext"
    }
   },
   "outputs": [],
   "source": [
    "SELECT current_database() AS DATABASE_NAME, current_schema() AS SCHEMA_NAME"
   ]
  },
  {
   "cell_type": "code",
   "execution_count": null,
   "metadata": {
    "vscode": {
     "languageId": "plaintext"
    }
   },
   "outputs": [],
   "source": [
    "# Import python packages\n",
    "from snowflake.core import Root\n",
    "\n",
    "# We can also use Snowpark for our analyses!\n",
    "from snowflake.snowpark.context import get_active_session\n",
    "session = get_active_session()\n",
    "\n",
    "session.use_role(\"FRED_ROLE\")\n",
    "session.use_warehouse(\"FRED_WH\")\n",
    "\n",
    "database_name = \"FRED_DB\"\n",
    "schema_name = \"FRED_SCHEMA\"\n",
    "\n",
    "session.use_schema(f\"{database_name}.{schema_name}\")"
   ]
  },
  {
   "cell_type": "code",
   "execution_count": null,
   "metadata": {
    "vscode": {
     "languageId": "plaintext"
    }
   },
   "outputs": [],
   "source": [
    "# Load datasets from Snowflake table\n",
    "dgs10 = session.table(\"FRED_10Y_TABLE\").to_pandas()\n",
    "dgs2 = session.table(\"FRED_2Y_TABLE\").to_pandas()  \n",
    "\n",
    "# Convert DATE column to datetime\n",
    "dgs10['DATE'] = pd.to_datetime(dgs10['OBS_DATE'])\n",
    "dgs2['DATE'] = pd.to_datetime(dgs2['OBS_DATE'])\n",
    "\n",
    "dgs_df = pd.merge(dgs10, dgs2, on='OBS_DATE', suffixes=('_10y', '_2y'))\n",
    "\n",
    "# Convert yields to numeric (handling missing or invalid values)\n",
    "dgs_df['DGS10'] = pd.to_numeric(dgs_df['PERCENT_CHANGE_10y'], errors='coerce')\n",
    "dgs_df['DGS2'] = pd.to_numeric(dgs_df['PERCENT_CHANGE_2y'], errors='coerce')\n",
    "\n",
    "# Calculate the spread\n",
    "dgs_df['Spread'] = dgs_df['DGS10'] - dgs_df['DGS2']\n",
    "\n",
    "# Add columns for Month and Year\n",
    "dgs_df['OBS_DATE'] = pd.to_datetime(dgs_df['OBS_DATE'], errors='coerce')\n",
    "dgs_df['Month'] = dgs_df['OBS_DATE'].dt.to_period('M')  \n",
    "dgs_df['Year'] = dgs_df['OBS_DATE'].dt.year\n",
    "\n",
    "# Group by Month and calculate average spread\n",
    "monthly_spread = dgs_df.groupby('Month')['Spread'].mean().reset_index()\n",
    "# Group by Year and calculate average spread\n",
    "yearly_spread = dgs_df.groupby('Year')['Spread'].mean().reset_index()\n",
    "\n",
    "# Identify months/years with inverse yield (negative spread)\n",
    "monthly_inverse_yield = monthly_spread[monthly_spread['Spread'] < 0]\n",
    "yearly_inverse_yield = yearly_spread[yearly_spread['Spread'] < 0]\n",
    "\n",
    "print(\"Monthly Inverse Yield Curve:\")\n",
    "print(monthly_inverse_yield)\n",
    "\n",
    "print(\"Yearly Inverse Yield Curve:\")\n",
    "print(yearly_inverse_yield)"
   ]
  }
 ],
 "metadata": {
  "language_info": {
   "name": "python"
  }
 },
 "nbformat": 4,
 "nbformat_minor": 2
}
