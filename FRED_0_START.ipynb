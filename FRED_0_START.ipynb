{
 "cells": [
  {
   "cell_type": "markdown",
   "id": "94557280-3b83-47df-a4fb-38b8306b8279",
   "metadata": {
    "collapsed": false,
    "name": "cell4"
   },
   "source": [
    "# Setting Up Snowflake"
   ]
  },
  {
   "cell_type": "code",
   "execution_count": null,
   "id": "550aa3bd-c51a-486f-8f38-482b8a2d7502",
   "metadata": {
    "collapsed": false,
    "language": "sql",
    "name": "cell5"
   },
   "outputs": [],
   "source": [
    "SET MY_USER = CURRENT_USER();\n",
    "\n",
    "-- Check on this \n",
    "SET GITHUB_SECRET_USERNAME = '';\n",
    "SET GITHUB_SECRET_PASSWORD = '';\n",
    "SET GITHUB_URL_PREFIX = 'https://github.com/BigDataIA-Spring2025-4';\n",
    "SET GITHUB_REPO_ORIGIN = 'https://github.com/BigDataIA-Spring2025-4/DAMG7245_Assignment03_Part02.git';"
   ]
  },
  {
   "cell_type": "code",
   "execution_count": null,
   "id": "152b48af-537c-402e-b087-29d333bb3f48",
   "metadata": {
    "collapsed": false,
    "language": "sql",
    "name": "cell6"
   },
   "outputs": [],
   "source": [
    "\n",
    "USE ROLE ACCOUNTADMIN;\n",
    "\n",
    "-- Roles\n",
    "CREATE OR REPLACE ROLE FRED_ROLE;\n",
    "GRANT ROLE FRED_ROLE TO ROLE SYSADMIN;\n",
    "GRANT ROLE FRED_ROLE TO USER IDENTIFIER($MY_USER);\n",
    "\n",
    "\n",
    "GRANT CREATE INTEGRATION ON ACCOUNT TO ROLE FRED_ROLE;\n",
    "GRANT EXECUTE TASK ON ACCOUNT TO ROLE FRED_ROLE;\n",
    "GRANT EXECUTE MANAGED TASK ON ACCOUNT TO ROLE FRED_ROLE;\n",
    "GRANT MONITOR EXECUTION ON ACCOUNT TO ROLE FRED_ROLE;\n",
    "GRANT IMPORTED PRIVILEGES ON DATABASE SNOWFLAKE TO ROLE FRED_ROLE;\n",
    "\n",
    "-- Databases\n",
    "CREATE OR REPLACE DATABASE FRED_DB;\n",
    "GRANT OWNERSHIP ON DATABASE FRED_DB TO ROLE FRED_ROLE;\n",
    "\n",
    "-- Warehouses\n",
    "CREATE OR REPLACE WAREHOUSE FRED_WH WAREHOUSE_SIZE = XSMALL, AUTO_SUSPEND = 300, AUTO_RESUME= TRUE;\n",
    "GRANT OWNERSHIP ON WAREHOUSE FRED_WH TO ROLE FRED_ROLE;\n",
    "\n",
    "USE ROLE FRED_ROLE;\n",
    "USE WAREHOUSE FRED_WH;\n",
    "USE DATABASE FRED_DB;"
   ]
  },
  {
   "cell_type": "code",
   "execution_count": null,
   "id": "5aafe8cf-869d-457c-bb98-750af5ed18ff",
   "metadata": {
    "language": "sql",
    "name": "cell7"
   },
   "outputs": [],
   "source": [
    "-- ----------------------------------------------------------------------------\n",
    "-- Create the database level objects\n",
    "-- ----------------------------------------------------------------------------\n",
    "\n",
    "\n",
    "-- Schemas\n",
    "CREATE OR REPLACE SCHEMA INTEGRATIONS;;\n",
    "CREATE OR REPLACE SCHEMA DEV_RAW_FRED;\n",
    "CREATE OR REPLACE SCHEMA DEV_HARMONIZED;\n",
    "CREATE OR REPLACE SCHEMA DEV_ANALYTICS;\n",
    "CREATE OR REPLACE SCHEMA PROD_RAW_FRED;\n",
    "CREATE OR REPLACE SCHEMA PROD_HARMONIZED;\n",
    "CREATE OR REPLACE SCHEMA PROD_ANALYTICS;\n",
    "\n",
    "USE SCHEMA INTEGRATIONS;\n",
    "\n",
    "CREATE OR REPLACE STAGE S3_FRED_STAGE\n",
    "    URL = 's3://snowpipeline120/'\n",
    "    CREDENTIALS = (AWS_KEY_ID = '' \n",
    "                   AWS_SECRET_KEY = '');\n",
    "\n",
    "\n",
    "-- Secrets (schema level)\n",
    "CREATE OR REPLACE SECRET FRED_GITHUB_SECRET\n",
    "  TYPE = password\n",
    "  USERNAME = $GITHUB_SECRET_USERNAME\n",
    "  PASSWORD = $GITHUB_SECRET_PASSWORD;\n",
    "\n",
    "-- API Integration (account level)\n",
    "-- This depends on the schema level secret!\n",
    "CREATE OR REPLACE API INTEGRATION FRED_GITHUB_API_INTEGRATION\n",
    "  API_PROVIDER = GIT_HTTPS_API\n",
    "  API_ALLOWED_PREFIXES = ($GITHUB_URL_PREFIX)\n",
    "  ALLOWED_AUTHENTICATION_SECRETS = (FRED_GITHUB_SECRET)\n",
    "  ENABLED = TRUE;\n",
    "\n",
    "-- Git Repository\n",
    "CREATE OR REPLACE GIT REPOSITORY FRED_GIT_REPO\n",
    "  API_INTEGRATION = FRED_GITHUB_API_INTEGRATION\n",
    "  GIT_CREDENTIALS = FRED_GITHUB_SECRET\n",
    "  ORIGIN = $GITHUB_REPO_ORIGIN;"
   ]
  },
  {
   "cell_type": "code",
   "execution_count": null,
   "id": "951a7222-11dd-40d9-9dca-6e3b2c4c44be",
   "metadata": {
    "language": "sql",
    "name": "cell8"
   },
   "outputs": [],
   "source": [
    "USE ROLE ACCOUNTADMIN;\n",
    "\n",
    "CREATE EVENT TABLE FRED_DB.INTEGRATIONS.FRED_EVENTS;\n",
    "GRANT SELECT ON EVENT TABLE FRED_DB.INTEGRATIONS.FRED_EVENTS TO ROLE FRED_ROLE;\n",
    "GRANT INSERT ON EVENT TABLE FRED_DB.INTEGRATIONS.FRED_EVENTS TO ROLE FRED_ROLE;\n",
    "\n",
    "ALTER ACCOUNT SET EVENT_TABLE = FRED_DB.INTEGRATIONS.FRED_EVENTS;\n",
    "ALTER DATABASE FRED_DB SET LOG_LEVEL = INFO;"
   ]
  },
  {
   "cell_type": "code",
   "execution_count": null,
   "id": "013fa734-d447-492c-87d5-ed37406162c0",
   "metadata": {
    "collapsed": false,
    "language": "sql",
    "name": "cell9"
   },
   "outputs": [],
   "source": [
    "USE ROLE FRED_ROLE;\n",
    "USE WAREHOUSE FRED_WH;\n",
    "USE SCHEMA FRED_DB.INTEGRATIONS;\n",
    "\n",
    "EXECUTE IMMEDIATE FROM @FRED_GIT_REPO/branches/main/scripts/deploy_notebooks.sql\n",
    "    USING (env => 'DEV', schema1 => 'RAW_FRED', schema2 => 'HARMONIZED', schema3 => 'ANALYTICS', branch => 'main');"
   ]
  },
  {
   "cell_type": "code",
   "execution_count": null,
   "id": "b38e7cc2-c7da-4c30-9403-33b4ba6491f3",
   "metadata": {
    "collapsed": false,
    "language": "sql",
    "name": "cell3"
   },
   "outputs": [],
   "source": [
    "EXECUTE NOTEBOOK FRED_DB.DEV_ANALYTICS.\"DEV_03_analytics_table_processing\"()"
   ]
  },
  {
   "cell_type": "code",
   "execution_count": null,
   "id": "e1b75120-92d4-4b16-9c70-edab9a798eaf",
   "metadata": {
    "language": "python",
    "name": "cell2"
   },
   "outputs": [],
   "source": [
    "# To call the sproc\n",
    "# from snowflake.snowpark.context import get_active_session\n",
    "# session = get_active_session()\n",
    "\n",
    "# session.use_schema(\"FRED_DB.DEV_ANALYTICS\")\n",
    "# # env = schema_name[:3]\n",
    "# session.sql(f\"CALL merge_fred_updates_sp('FRED_DB', 'DEV_ANALYTICS', 'DEV')\").collect()"
   ]
  },
  {
   "cell_type": "code",
   "execution_count": null,
   "id": "3faa73a1-e3c2-4300-8321-a3b143de1966",
   "metadata": {
    "language": "python",
    "name": "cell10"
   },
   "outputs": [],
   "source": [
    "# session.sql(f\"CALL create_analytical_tables_sp('DEV_ANALYTICS', 'FRED_10Y_2Y')\").collect()"
   ]
  },
  {
   "cell_type": "code",
   "execution_count": null,
   "id": "395bc402-be4a-4211-8e8b-c537212d72f6",
   "metadata": {
    "language": "sql",
    "name": "cell11"
   },
   "outputs": [],
   "source": [
    "-- select * from FRED_10Y_2Y where OBSERVATION_DATE > '2025-02-24';"
   ]
  },
  {
   "cell_type": "code",
   "execution_count": null,
   "id": "5a73c7d9-6eaf-47b0-8c0b-e88bbce1d3ab",
   "metadata": {
    "collapsed": false,
    "language": "sql",
    "name": "cell1"
   },
   "outputs": [],
   "source": [
    "-- USE ROLE ACCOUNTADMIN;\n",
    "-- DROP ROLE FRED_ROLE;\n",
    "-- DROP API INTEGRATION FRED_GITHUB_API_INTEGRATION;\n",
    "-- DROP DATABASE FRED_DB;\n",
    "-- DROP WAREHOUSE FRED_WH;\n",
    "\n"
   ]
  }
 ],
 "metadata": {
  "kernelspec": {
   "display_name": "Streamlit Notebook",
   "name": "streamlit"
  },
  "lastEditStatus": {
   "authorEmail": "markose.y@northeastern.edu",
   "authorId": "6690310009356",
   "authorName": "YOHANMARKOSE",
   "lastEditTime": 1740688224407,
   "notebookId": "ym2jm7mboxidom324g4k",
   "sessionId": "ae5ae0eb-d657-4df5-a1e6-c07ee55fdbb2"
  }
 },
 "nbformat": 4,
 "nbformat_minor": 5
}
