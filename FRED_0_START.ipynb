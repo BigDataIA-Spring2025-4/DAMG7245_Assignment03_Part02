{
 "cells": [
  {
   "cell_type": "markdown",
   "id": "94557280-3b83-47df-a4fb-38b8306b8279",
   "metadata": {
    "collapsed": false,
    "name": "cell4"
   },
   "source": [
    "# Setting Up Snowflake"
   ]
  },
  {
   "cell_type": "code",
   "execution_count": null,
   "id": "550aa3bd-c51a-486f-8f38-482b8a2d7502",
   "metadata": {
    "collapsed": false,
    "language": "sql",
    "name": "github_secrets"
   },
   "outputs": [],
   "source": [
    "SET MY_USER = CURRENT_USER();\n",
    "\n",
    "-- Check on this \n",
    "SET GITHUB_SECRET_USERNAME = '##############';\n",
    "SET GITHUB_SECRET_PASSWORD = '#####################';\n",
    "SET GITHUB_URL_PREFIX = 'https://github.com/#####################';\n",
    "SET GITHUB_REPO_ORIGIN = 'https://github.com/##############################';"
   ]
  },
  {
   "cell_type": "code",
   "execution_count": null,
   "id": "152b48af-537c-402e-b087-29d333bb3f48",
   "metadata": {
    "codeCollapsed": false,
    "collapsed": false,
    "language": "sql",
    "name": "role_creation"
   },
   "outputs": [],
   "source": [
    "\n",
    "USE ROLE ACCOUNTADMIN;\n",
    "\n",
    "-- Roles\n",
    "CREATE OR REPLACE ROLE FRED_ROLE;\n",
    "GRANT ROLE FRED_ROLE TO ROLE SYSADMIN;\n",
    "GRANT ROLE FRED_ROLE TO USER IDENTIFIER($MY_USER);\n",
    "\n",
    "\n",
    "GRANT CREATE INTEGRATION ON ACCOUNT TO ROLE FRED_ROLE;\n",
    "GRANT EXECUTE TASK ON ACCOUNT TO ROLE FRED_ROLE;\n",
    "GRANT EXECUTE MANAGED TASK ON ACCOUNT TO ROLE FRED_ROLE;\n",
    "GRANT MONITOR EXECUTION ON ACCOUNT TO ROLE FRED_ROLE;\n",
    "GRANT IMPORTED PRIVILEGES ON DATABASE SNOWFLAKE TO ROLE FRED_ROLE;\n",
    "\n",
    "-- Databases\n",
    "CREATE OR REPLACE DATABASE FRED_DB;\n",
    "GRANT OWNERSHIP ON DATABASE FRED_DB TO ROLE FRED_ROLE;\n",
    "\n",
    "-- Warehouses\n",
    "CREATE OR REPLACE WAREHOUSE FRED_WH WAREHOUSE_SIZE = XSMALL, AUTO_SUSPEND = 300, AUTO_RESUME= TRUE;\n",
    "GRANT OWNERSHIP ON WAREHOUSE FRED_WH TO ROLE FRED_ROLE;\n",
    "\n",
    "USE ROLE FRED_ROLE;\n",
    "USE WAREHOUSE FRED_WH;\n",
    "USE DATABASE FRED_DB;"
   ]
  },
  {
   "cell_type": "code",
   "execution_count": null,
   "id": "5aafe8cf-869d-457c-bb98-750af5ed18ff",
   "metadata": {
    "language": "sql",
    "name": "cell7"
   },
   "outputs": [],
   "source": [
    "-- ----------------------------------------------------------------------------\n",
    "-- Create the database level objects\n",
    "-- ----------------------------------------------------------------------------\n",
    "-- Schemas\n",
    "CREATE OR REPLACE SCHEMA INTEGRATIONS;;\n",
    "CREATE OR REPLACE SCHEMA DEV_RAW_FRED;\n",
    "CREATE OR REPLACE SCHEMA DEV_HARMONIZED;\n",
    "CREATE OR REPLACE SCHEMA DEV_ANALYTICS;\n",
    "CREATE OR REPLACE SCHEMA PROD_RAW_FRED;\n",
    "CREATE OR REPLACE SCHEMA PROD_HARMONIZED;\n",
    "CREATE OR REPLACE SCHEMA PROD_ANALYTICS;\n",
    "\n",
    "USE SCHEMA INTEGRATIONS;\n",
    "\n",
    "CREATE OR REPLACE STAGE S3_FRED_STAGE\n",
    "    URL = 's3://#############/'\n",
    "    CREDENTIALS = (AWS_KEY_ID = '#########################' \n",
    "                   AWS_SECRET_KEY = '#########################');\n",
    "\n",
    "\n",
    "-- Secrets (schema level)\n",
    "CREATE OR REPLACE SECRET FRED_GITHUB_SECRET\n",
    "  TYPE = password\n",
    "  USERNAME = $GITHUB_SECRET_USERNAME\n",
    "  PASSWORD = $GITHUB_SECRET_PASSWORD;\n",
    "\n",
    "-- API Integration (account level)\n",
    "-- This depends on the schema level secret!\n",
    "CREATE OR REPLACE API INTEGRATION FRED_GITHUB_API_INTEGRATION\n",
    "  API_PROVIDER = GIT_HTTPS_API\n",
    "  API_ALLOWED_PREFIXES = ($GITHUB_URL_PREFIX)\n",
    "  ALLOWED_AUTHENTICATION_SECRETS = (FRED_GITHUB_SECRET)\n",
    "  ENABLED = TRUE;\n",
    "\n",
    "-- Git Repository\n",
    "CREATE OR REPLACE GIT REPOSITORY FRED_GIT_REPO\n",
    "  API_INTEGRATION = FRED_GITHUB_API_INTEGRATION\n",
    "  GIT_CREDENTIALS = FRED_GITHUB_SECRET\n",
    "  ORIGIN = $GITHUB_REPO_ORIGIN;"
   ]
  },
  {
   "cell_type": "code",
   "execution_count": null,
   "id": "951a7222-11dd-40d9-9dca-6e3b2c4c44be",
   "metadata": {
    "language": "sql",
    "name": "cell8"
   },
   "outputs": [],
   "source": [
    "USE ROLE ACCOUNTADMIN;\n",
    "\n",
    "CREATE EVENT TABLE FRED_DB.INTEGRATIONS.FRED_EVENTS;\n",
    "GRANT SELECT ON EVENT TABLE FRED_DB.INTEGRATIONS.FRED_EVENTS TO ROLE FRED_ROLE;\n",
    "GRANT INSERT ON EVENT TABLE FRED_DB.INTEGRATIONS.FRED_EVENTS TO ROLE FRED_ROLE;\n",
    "\n",
    "ALTER ACCOUNT SET EVENT_TABLE = FRED_DB.INTEGRATIONS.FRED_EVENTS;\n",
    "ALTER DATABASE FRED_DB SET LOG_LEVEL = INFO;"
   ]
  },
  {
   "cell_type": "code",
   "execution_count": null,
   "id": "013fa734-d447-492c-87d5-ed37406162c0",
   "metadata": {
    "collapsed": false,
    "language": "sql",
    "name": "cell9"
   },
   "outputs": [],
   "source": [
    "USE ROLE FRED_ROLE;\n",
    "USE WAREHOUSE FRED_WH;\n",
    "USE SCHEMA FRED_DB.INTEGRATIONS;\n",
    "\n",
    "EXECUTE IMMEDIATE FROM @FRED_GIT_REPO/branches/main/scripts/deploy_notebooks.sql\n",
    "    USING (env => 'DEV', schema1 => 'RAW_FRED', schema2 => 'HARMONIZED', schema3 => 'ANALYTICS', branch => 'main');"
   ]
  },
  {
   "cell_type": "code",
   "execution_count": null,
   "id": "b38e7cc2-c7da-4c30-9403-33b4ba6491f3",
   "metadata": {
    "collapsed": false,
    "language": "sql",
    "name": "cell3"
   },
   "outputs": [],
   "source": [
    "EXECUTE NOTEBOOK FRED_DB.PROD_ANALYTICS.\"PROD_03_analytics_table_processing\"()"
   ]
  },
  {
   "cell_type": "markdown",
   "id": "e0ca6d33-b94a-48ca-abbb-c89369300de8",
   "metadata": {
    "collapsed": false,
    "name": "cell17"
   },
   "source": [
    "# DAG Creation Script"
   ]
  },
  {
   "cell_type": "code",
   "execution_count": null,
   "id": "dfd28d67-fa7c-4334-b302-310754bcc9d7",
   "metadata": {
    "collapsed": false,
    "language": "python",
    "name": "cell15"
   },
   "outputs": [],
   "source": [
    "# Import necessary packages\n",
    "from snowflake.core import Root\n",
    "from snowflake.snowpark import Session\n",
    "from snowflake.snowpark.context import get_active_session\n",
    "from snowflake.core.task.dagv1 import DAGOperation, DAG, DAGTask\n",
    "from datetime import timedelta"
   ]
  },
  {
   "cell_type": "code",
   "execution_count": null,
   "id": "280b5c2b-d34b-4de8-91e6-072025e77060",
   "metadata": {
    "codeCollapsed": false,
    "collapsed": false,
    "language": "python",
    "name": "cell14"
   },
   "outputs": [],
   "source": [
    "database_name=\"FRED_DB\"\n",
    "env=\"PROD\"\n",
    "\n",
    "session = get_active_session()\n",
    "session.use_role(\"FRED_ROLE\")\n",
    "session.use_warehouse(\"FRED_WH\")\n",
    "\n",
    "database_name = \"FRED_DB\"\n",
    "schema1 = f\"{env}_RAW_FRED\"\n",
    "schema2 = f\"{env}_HARMONIZED\"\n",
    "schema3 = f\"{env}_ANALYTICS\"\n",
    "schema_name= \"INTEGRATIONS\""
   ]
  },
  {
   "cell_type": "code",
   "execution_count": null,
   "id": "350978d9-4705-46a7-b637-cbcc43e75abc",
   "metadata": {
    "codeCollapsed": false,
    "language": "python",
    "name": "cell5"
   },
   "outputs": [],
   "source": [
    "## Task 3: Merge FRED updates\n",
    "sql_query = f\"\"\"\n",
    "CREATE OR REPLACE TASK FRED_DB.INTEGRATIONS.SPOC_TASK_MERGE_FRED_UPDATES\n",
    "WAREHOUSE = FRED_WH\n",
    "WHEN SYSTEM$STREAM_HAS_DATA('FRED_DB.{env}_HARMONIZED.FRED_STREAM')\n",
    "AS\n",
    "BEGIN\n",
    "    CALL FRED_DB.{env}_ANALYTICS.merge_fred_updates_sp('FRED_DB', '{env}_ANALYTICS', '{env}');\n",
    "    CALL FRED_DB.{env}_ANALYTICS.create_analytical_tables_sp('{env}_ANALYTICS', 'FRED_10Y_2Y');\n",
    "END;\n",
    "\"\"\"\n",
    "session.sql(sql_query)"
   ]
  },
  {
   "cell_type": "code",
   "execution_count": null,
   "id": "b7cff76e-bdbe-4c6e-a714-24cb3a78b9c0",
   "metadata": {
    "codeCollapsed": false,
    "collapsed": false,
    "language": "python",
    "name": "cell16"
   },
   "outputs": [],
   "source": [
    "session.use_schema(f\"{database_name}.{schema_name}\")\n",
    "\n",
    "# Create a Root object and obtain the schema\n",
    "api_root = Root(session)\n",
    "schema = api_root.databases[database_name].schemas[schema_name]\n",
    "\n",
    "dag_op = DAGOperation(schema)\n",
    "\n",
    "warehouse_name = \"FRED_WH\"\n",
    "dag_name = f\"{env}_FRED_ANALYTICS_DAG\"\n",
    "\n",
    "with DAG(dag_name, schedule=timedelta(days=1), warehouse=warehouse_name) as dag:\n",
    "    dag_task1 = DAGTask(\n",
    "        \"AWS_S3_DATA_STAGING\", \n",
    "        definition=f'EXECUTE NOTEBOOK \"{database_name}\".\"{schema1}\".\"{env}_01_load_files\"()', \n",
    "        warehouse=warehouse_name\n",
    "    )\n",
    "\n",
    "    dag_task2 = DAGTask(\n",
    "        \"DATA_TRANSFORMATION_TO_HARMONIZED\", \n",
    "        definition=f'EXECUTE NOTEBOOK \"{database_name}\".\"{schema2}\".\"{env}_02_raw_to_harmonized\"()', \n",
    "        warehouse=warehouse_name\n",
    "    )\n",
    "    \n",
    "    dag_task3 = DAGTask(\n",
    "        \"SPOC_TASK_MERGE_FRED_UPDATES\",\n",
    "        definition=f'EXECUTE TASK \"{database_name}\".\"{schema_name}\".\"SPOC_TASK_MERGE_FRED_UPDATES\";', \n",
    "        warehouse=warehouse_name\n",
    "    )\n",
    "\n",
    "    # Define task dependencies\n",
    "    dag_task1 >> dag_task2 >> dag_task3\n",
    "\n",
    "# Deploy the DAG\n",
    "dag_op.deploy(dag, mode=\"orreplace\")\n"
   ]
  },
  {
   "cell_type": "code",
   "execution_count": null,
   "id": "fe0c0c3e-d11f-45c6-a241-d83eb1bcd1ec",
   "metadata": {
    "language": "sql",
    "name": "cell12"
   },
   "outputs": [],
   "source": [
    "-- SELECT * FROM FRED_DB.DEV_ANALYTICS.FRED_10Y_2Y ORDER BY observation_date DESC LIMIT 10;\n",
    "SELECT * FROM FRED_DB.DEV_ANALYTICS.FRED_COMBINED_DAILY ORDER BY obs_date DESC LIMIT 10;"
   ]
  },
  {
   "cell_type": "markdown",
   "id": "40bdc08b-01f2-4811-8ecc-7fdd1cb4e345",
   "metadata": {
    "collapsed": false,
    "name": "cell2"
   },
   "source": [
    "## Teardown Scripts "
   ]
  },
  {
   "cell_type": "code",
   "execution_count": null,
   "id": "5e0ea6fe-e895-4e15-a30e-e17890e12e60",
   "metadata": {
    "language": "sql",
    "name": "cell1"
   },
   "outputs": [],
   "source": [
    "-- USE ROLE ACCOUNTADMIN;\n",
    "-- DROP ROLE FRED_ROLE;\n",
    "-- DROP API INTEGRATION FRED_GITHUB_API_INTEGRATION;\n",
    "-- DROP DATABASE FRED_DB;\n",
    "-- DROP WAREHOUSE FRED_WH;"
   ]
  }
 ],
 "metadata": {
  "kernelspec": {
   "display_name": "Streamlit Notebook",
   "name": "streamlit"
  },
  "lastEditStatus": {
   "authorEmail": "markose.y@northeastern.edu",
   "authorId": "6690310009356",
   "authorName": "YOHANMARKOSE",
   "lastEditTime": 1740719590239,
   "notebookId": "ctd7cq24mw6njaq6xyy5",
   "sessionId": "2199f6f4-5da7-4e81-96ad-1752081b52d2"
  }
 },
 "nbformat": 4,
 "nbformat_minor": 5
}
